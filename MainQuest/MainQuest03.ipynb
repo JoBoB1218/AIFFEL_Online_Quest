{
 "cells": [
  {
   "cell_type": "code",
   "execution_count": 175,
   "id": "71d278a2",
   "metadata": {},
   "outputs": [
    {
     "name": "stdout",
     "output_type": "stream",
     "text": [
      "2.15.0\n",
      "1.24.3\n"
     ]
    }
   ],
   "source": [
    "import tensorflow as tf\n",
    "import numpy as np\n",
    "\n",
    "print(tf.__version__)\n",
    "print(np.__version__)"
   ]
  },
  {
   "cell_type": "code",
   "execution_count": 176,
   "id": "8567bcb6",
   "metadata": {},
   "outputs": [
    {
     "name": "stdout",
     "output_type": "stream",
     "text": [
      "PIL 라이브러리 import 완료!\n"
     ]
    }
   ],
   "source": [
    "from PIL import Image\n",
    "import glob\n",
    "import os\n",
    "\n",
    "print(\"PIL 라이브러리 import 완료!\")"
   ]
  },
  {
   "cell_type": "code",
   "execution_count": 345,
   "id": "ec26c3e5",
   "metadata": {},
   "outputs": [
    {
     "name": "stdout",
     "output_type": "stream",
     "text": [
      "1004  images to be resized.\n"
     ]
    },
    {
     "name": "stderr",
     "output_type": "stream",
     "text": [
      "C:\\Users\\angel\\AppData\\Local\\Temp\\ipykernel_24056\\498959286.py:10: DeprecationWarning: ANTIALIAS is deprecated and will be removed in Pillow 10 (2023-07-01). Use LANCZOS or Resampling.LANCZOS instead.\n",
      "  new_img=old_img.resize(target_size,Image.ANTIALIAS)\n"
     ]
    },
    {
     "name": "stdout",
     "output_type": "stream",
     "text": [
      "1004  images resized.\n",
      "가위 이미지 resize 완료!\n"
     ]
    }
   ],
   "source": [
    "def resize_images(img_path):\n",
    "    images=glob.glob(img_path + \"/*.jpg\")  \n",
    "    \n",
    "    print(len(images), \" images to be resized.\")\n",
    "\n",
    "    # 파일마다 모두 28x28 사이즈로 바꾸어 저장합니다.\n",
    "    target_size=(28,28)\n",
    "    for img in images:\n",
    "        old_img=Image.open(img)\n",
    "        new_img=old_img.resize(target_size,Image.ANTIALIAS)\n",
    "        new_img.save(img, \"JPEG\")\n",
    "    \n",
    "    print(len(images), \" images resized.\")\n",
    "    \n",
    "# 가위 이미지가 저장된 디렉토리 아래의 모든 jpg 파일을 읽어들여서\n",
    "#image_dir_path = os.getenv(\"HOME\") + \"/aiffel/rock_scissor_paper/scissor\"\n",
    "image_dir_path = 'C:/Users/angel/JoBoB/Work/AIFFEL/jupyter/DeepLearning from scratch/MainQuest/rock_scissor_paper1/scissor'\n",
    "resize_images(image_dir_path)\n",
    "print(\"가위 이미지 resize 완료!\")"
   ]
  },
  {
   "cell_type": "code",
   "execution_count": 346,
   "id": "2e5476ab",
   "metadata": {},
   "outputs": [
    {
     "name": "stdout",
     "output_type": "stream",
     "text": [
      "1016  images to be resized.\n"
     ]
    },
    {
     "name": "stderr",
     "output_type": "stream",
     "text": [
      "C:\\Users\\angel\\AppData\\Local\\Temp\\ipykernel_24056\\498959286.py:10: DeprecationWarning: ANTIALIAS is deprecated and will be removed in Pillow 10 (2023-07-01). Use LANCZOS or Resampling.LANCZOS instead.\n",
      "  new_img=old_img.resize(target_size,Image.ANTIALIAS)\n"
     ]
    },
    {
     "name": "stdout",
     "output_type": "stream",
     "text": [
      "1016  images resized.\n"
     ]
    }
   ],
   "source": [
    "# 바위 이미지가 저장된 디렉토리 아래의 모든 jpg 파일을 읽어들여서\n",
    "image_dir_path = 'C:/Users/angel/JoBoB/Work/AIFFEL/jupyter/DeepLearning from scratch/MainQuest/rock_scissor_paper1/rock'\n",
    "# 파일마다 모두 28x28 사이즈로 바꾸어 저장합니다.\n",
    "resize_images(image_dir_path)"
   ]
  },
  {
   "cell_type": "code",
   "execution_count": 347,
   "id": "e4523c54",
   "metadata": {},
   "outputs": [
    {
     "name": "stdout",
     "output_type": "stream",
     "text": [
      "974  images to be resized.\n"
     ]
    },
    {
     "name": "stderr",
     "output_type": "stream",
     "text": [
      "C:\\Users\\angel\\AppData\\Local\\Temp\\ipykernel_24056\\498959286.py:10: DeprecationWarning: ANTIALIAS is deprecated and will be removed in Pillow 10 (2023-07-01). Use LANCZOS or Resampling.LANCZOS instead.\n",
      "  new_img=old_img.resize(target_size,Image.ANTIALIAS)\n"
     ]
    },
    {
     "name": "stdout",
     "output_type": "stream",
     "text": [
      "974  images resized.\n"
     ]
    }
   ],
   "source": [
    "# 보 이미지가 저장된 디렉토리 아래의 모든 jpg 파일을 읽어들여서\n",
    "image_dir_path = 'C:/Users/angel/JoBoB/Work/AIFFEL/jupyter/DeepLearning from scratch/MainQuest/rock_scissor_paper1/paper'\n",
    "\n",
    "# 파일마다 모두 28x28 사이즈로 바꾸어 저장합니다.\n",
    "resize_images(image_dir_path)"
   ]
  },
  {
   "cell_type": "code",
   "execution_count": 348,
   "id": "0cdecf2a",
   "metadata": {},
   "outputs": [
    {
     "name": "stdout",
     "output_type": "stream",
     "text": [
      "데이터의 이미지 개수는 2994 입니다.\n",
      "x_train shape: (2994, 28, 28, 3)\n",
      "y_train shape: (2994,)\n"
     ]
    }
   ],
   "source": [
    "import numpy as np\n",
    "\n",
    "def load_data(img_path, number_of_data=2994):  # 가위바위보 이미지 개수 총합에 주의하세요.\n",
    "    # 가위 : 0, 바위 : 1, 보 : 2\n",
    "    img_size=28\n",
    "    color=3\n",
    "    #이미지 데이터와 라벨(가위 : 0, 바위 : 1, 보 : 2) 데이터를 담을 행렬(matrix) 영역을 생성합니다.\n",
    "    imgs=np.zeros(number_of_data*img_size*img_size*color,dtype=np.int32).reshape(number_of_data,img_size,img_size,color)\n",
    "    labels=np.zeros(number_of_data,dtype=np.int32)\n",
    "\n",
    "    idx=0\n",
    "    for file in glob.iglob(img_path+'/scissor/*.jpg'):\n",
    "        img = np.array(Image.open(file),dtype=np.int32)\n",
    "        imgs[idx,:,:,:]=img    # 데이터 영역에 이미지 행렬을 복사\n",
    "        labels[idx]=0   # 가위 : 0\n",
    "        idx=idx+1\n",
    "\n",
    "    for file in glob.iglob(img_path+'/rock/*.jpg'):\n",
    "        img = np.array(Image.open(file),dtype=np.int32)\n",
    "        imgs[idx,:,:,:]=img    # 데이터 영역에 이미지 행렬을 복사\n",
    "        labels[idx]=1   # 바위 : 1\n",
    "        idx=idx+1  \n",
    "    \n",
    "    for file in glob.iglob(img_path+'/paper/*.jpg'):\n",
    "        img = np.array(Image.open(file),dtype=np.int32)\n",
    "        imgs[idx,:,:,:]=img    # 데이터 영역에 이미지 행렬을 복사\n",
    "        labels[idx]=2   # 보 : 2\n",
    "        idx=idx+1\n",
    "        \n",
    "    print(\"데이터의 이미지 개수는\", idx,\"입니다.\")\n",
    "    return imgs, labels\n",
    "\n",
    "image_dir_path = 'C:/Users/angel/JoBoB/Work/AIFFEL/jupyter/DeepLearning from scratch/MainQuest/rock_scissor_paper1'\n",
    "(x_train, y_train)=load_data(image_dir_path)\n",
    "\n",
    "print(\"x_train shape: {}\".format(x_train.shape))\n",
    "print(\"y_train shape: {}\".format(y_train.shape))"
   ]
  },
  {
   "cell_type": "code",
   "execution_count": 349,
   "id": "7972e9a3",
   "metadata": {},
   "outputs": [
    {
     "name": "stdout",
     "output_type": "stream",
     "text": [
      "라벨:  0\n"
     ]
    },
    {
     "data": {
      "image/png": "[encoded data removed]",
      "text/plain": [
       "<Figure size 640x480 with 1 Axes>"
      ]
     },
     "metadata": {},
     "output_type": "display_data"
    }
   ],
   "source": [
    "import matplotlib.pyplot as plt\n",
    "\n",
    "plt.imshow(x_train[0])\n",
    "print('라벨: ', y_train[0])"
   ]
  },
  {
   "cell_type": "code",
   "execution_count": 350,
   "id": "a03b73f3",
   "metadata": {},
   "outputs": [
    {
     "name": "stdout",
     "output_type": "stream",
     "text": [
      "Model: \"sequential_173\"\n",
      "_________________________________________________________________\n",
      " Layer (type)                Output Shape              Param #   \n",
      "=================================================================\n",
      " conv2d_344 (Conv2D)         (None, 26, 26, 16)        448       \n",
      "                                                                 \n",
      " max_pooling2d_341 (MaxPool  (None, 13, 13, 16)        0         \n",
      " ing2D)                                                          \n",
      "                                                                 \n",
      " conv2d_345 (Conv2D)         (None, 11, 11, 32)        4640      \n",
      "                                                                 \n",
      " max_pooling2d_342 (MaxPool  (None, 5, 5, 32)          0         \n",
      " ing2D)                                                          \n",
      "                                                                 \n",
      " flatten_169 (Flatten)       (None, 800)               0         \n",
      "                                                                 \n",
      " dense_336 (Dense)           (None, 32)                25632     \n",
      "                                                                 \n",
      " dense_337 (Dense)           (None, 3)                 99        \n",
      "                                                                 \n",
      "=================================================================\n",
      "Total params: 30819 (120.39 KB)\n",
      "Trainable params: 30819 (120.39 KB)\n",
      "Non-trainable params: 0 (0.00 Byte)\n",
      "_________________________________________________________________\n"
     ]
    }
   ],
   "source": [
    "import tensorflow as tf\n",
    "from tensorflow import keras\n",
    "import numpy as np\n",
    "\n",
    "# model을 직접 만들어 보세요.\n",
    "# Hint! model의 입력/출력부에 특히 유의해 주세요. 가위바위보 데이터셋은 MNIST 데이터셋과 어떤 점이 달라졌나요?\n",
    "\n",
    "n_channel_1=16\n",
    "n_channel_2=32\n",
    "n_dense=32\n",
    "n_train_epoch=18\n",
    "\n",
    "model=keras.models.Sequential()\n",
    "model.add(keras.layers.Conv2D(n_channel_1, (3,3), activation='relu', input_shape=(28,28,3)))\n",
    "model.add(keras.layers.MaxPool2D(2,2))\n",
    "model.add(keras.layers.Conv2D(n_channel_2, (3,3), activation='relu'))\n",
    "model.add(keras.layers.MaxPooling2D((2,2)))\n",
    "model.add(keras.layers.Flatten())\n",
    "model.add(keras.layers.Dense(n_dense, activation='relu'))\n",
    "model.add(keras.layers.Dense(3, activation='softmax'))\n",
    "\n",
    "model.summary()"
   ]
  },
  {
   "cell_type": "code",
   "execution_count": 351,
   "id": "dbc7a482",
   "metadata": {},
   "outputs": [
    {
     "name": "stdout",
     "output_type": "stream",
     "text": [
      "Epoch 1/18\n",
      "94/94 [==============================] - 1s 5ms/step - loss: 0.7520 - accuracy: 0.8403\n",
      "Epoch 2/18\n",
      "94/94 [==============================] - 0s 5ms/step - loss: 0.0348 - accuracy: 0.9927\n",
      "Epoch 3/18\n",
      "94/94 [==============================] - 0s 5ms/step - loss: 0.0063 - accuracy: 0.9997\n",
      "Epoch 4/18\n",
      "94/94 [==============================] - 0s 5ms/step - loss: 0.0023 - accuracy: 1.0000\n",
      "Epoch 5/18\n",
      "94/94 [==============================] - 0s 5ms/step - loss: 0.0013 - accuracy: 1.0000\n",
      "Epoch 6/18\n",
      "94/94 [==============================] - 0s 5ms/step - loss: 7.6185e-04 - accuracy: 1.0000\n",
      "Epoch 7/18\n",
      "94/94 [==============================] - 0s 5ms/step - loss: 5.2234e-04 - accuracy: 1.0000\n",
      "Epoch 8/18\n",
      "94/94 [==============================] - 0s 5ms/step - loss: 3.4536e-04 - accuracy: 1.0000\n",
      "Epoch 9/18\n",
      "94/94 [==============================] - 0s 5ms/step - loss: 2.6081e-04 - accuracy: 1.0000\n",
      "Epoch 10/18\n",
      "94/94 [==============================] - 0s 5ms/step - loss: 1.9206e-04 - accuracy: 1.0000\n",
      "Epoch 11/18\n",
      "94/94 [==============================] - 0s 5ms/step - loss: 1.5498e-04 - accuracy: 1.0000\n",
      "Epoch 12/18\n",
      "94/94 [==============================] - 0s 5ms/step - loss: 1.2720e-04 - accuracy: 1.0000\n",
      "Epoch 13/18\n",
      "94/94 [==============================] - 0s 5ms/step - loss: 1.0751e-04 - accuracy: 1.0000\n",
      "Epoch 14/18\n",
      "94/94 [==============================] - 0s 5ms/step - loss: 9.3472e-05 - accuracy: 1.0000\n",
      "Epoch 15/18\n",
      "94/94 [==============================] - 0s 5ms/step - loss: 7.9724e-05 - accuracy: 1.0000\n",
      "Epoch 16/18\n",
      "94/94 [==============================] - 0s 5ms/step - loss: 7.0165e-05 - accuracy: 1.0000\n",
      "Epoch 17/18\n",
      "94/94 [==============================] - 0s 5ms/step - loss: 5.8830e-05 - accuracy: 1.0000\n",
      "Epoch 18/18\n",
      "94/94 [==============================] - 0s 5ms/step - loss: 5.0071e-05 - accuracy: 1.0000\n"
     ]
    },
    {
     "data": {
      "text/plain": [
       "<keras.src.callbacks.History at 0x21bd5b855d0>"
      ]
     },
     "execution_count": 351,
     "metadata": {},
     "output_type": "execute_result"
    }
   ],
   "source": [
    "# model을 학습시키는 코드를 직접 작성해 보세요.\n",
    "# Hint! model.compile()과 model.fit()을 사용해 봅시다.\n",
    "\n",
    "model.compile(optimizer='adam',\n",
    "             loss='sparse_categorical_crossentropy',\n",
    "             metrics=['accuracy'])\n",
    "\n",
    "x_train_norm = x_train / 255.0\n",
    "\n",
    "model.fit(x_train, y_train, epochs=n_train_epoch)"
   ]
  },
  {
   "cell_type": "code",
   "execution_count": 210,
   "id": "d07d916a",
   "metadata": {},
   "outputs": [
    {
     "name": "stdout",
     "output_type": "stream",
     "text": [
      "100  images to be resized.\n",
      "100  images resized.\n",
      "100  images to be resized.\n",
      "100  images resized.\n",
      "100  images to be resized.\n"
     ]
    },
    {
     "name": "stderr",
     "output_type": "stream",
     "text": [
      "C:\\Users\\angel\\AppData\\Local\\Temp\\ipykernel_24056\\2118193115.py:10: DeprecationWarning: ANTIALIAS is deprecated and will be removed in Pillow 10 (2023-07-01). Use LANCZOS or Resampling.LANCZOS instead.\n",
      "  new_img=old_img.resize(target_size,Image.ANTIALIAS)\n"
     ]
    },
    {
     "name": "stdout",
     "output_type": "stream",
     "text": [
      "100  images resized.\n",
      "\n",
      "\n",
      "데이터의 이미지 개수는 300 입니다.\n",
      "x_test shape: (603, 28, 28, 3)\n",
      "y_test shape: (603,) \n",
      "\n",
      "라벨:  0\n"
     ]
    },
    {
     "data": {
      "image/png": "[encoded data removed]",
      "text/plain": [
       "<Figure size 640x480 with 1 Axes>"
      ]
     },
     "metadata": {},
     "output_type": "display_data"
    }
   ],
   "source": [
    "# x_test, y_test를 만드는 방법은 x_train, y_train을 만드는 방법과 아주 유사합니다.\n",
    "\n",
    "\n",
    "# 28 X 28 사이즈로 변경하기\n",
    "# 가위\n",
    "image_dir_path = 'C:/Users/angel/JoBoB/Work/AIFFEL/jupyter/DeepLearning from scratch/MainQuest/test/scissor'\n",
    "resize_images(image_dir_path)\n",
    "\n",
    "# 바위\n",
    "image_dir_path = 'C:/Users/angel/JoBoB/Work/AIFFEL/jupyter/DeepLearning from scratch/MainQuest/test/rock'\n",
    "resize_images(image_dir_path)\n",
    "\n",
    "# 보\n",
    "image_dir_path = 'C:/Users/angel/JoBoB/Work/AIFFEL/jupyter/DeepLearning from scratch/MainQuest/test/paper'\n",
    "resize_images(image_dir_path)\n",
    "\n",
    "print('\\n')\n",
    "\n",
    "# x_test, y_test 만들기\n",
    "image_dir_path = 'C:/Users/angel/JoBoB/Work/AIFFEL/jupyter/DeepLearning from scratch/MainQuest/test'\n",
    "(x_test, y_test)=load_data(image_dir_path)\n",
    "\n",
    "print(\"x_test shape: {}\".format(x_train.shape))\n",
    "print(\"y_test shape: {} \\n\".format(y_train.shape))\n",
    "\n",
    "plt.imshow(x_test[0])\n",
    "print('라벨: ', y_test[0])"
   ]
  },
  {
   "cell_type": "code",
   "execution_count": 352,
   "id": "375bfce0",
   "metadata": {},
   "outputs": [
    {
     "name": "stdout",
     "output_type": "stream",
     "text": [
      "19/19 - 0s - loss: 7.0547 - accuracy: 0.1542 - 205ms/epoch - 11ms/step\n",
      "test_loss: 7.054731845855713 \n",
      "test_accuracy: 0.15422885119915009\n"
     ]
    }
   ],
   "source": [
    "# model을 학습시키는 코드를 직접 작성해 보세요.\n",
    "# Hint! model.evaluate()을 사용해 봅시다.\n",
    "\n",
    "# 아무런 overfitting 관련 처리를 하지 않은 상태\n",
    "test_loss, test_accuracy = model.evaluate(x_test, y_test, verbose=2)\n",
    "print(f\"test_loss: {test_loss} \")\n",
    "print(f\"test_accuracy: {test_accuracy}\")"
   ]
  },
  {
   "cell_type": "code",
   "execution_count": 353,
   "id": "3be309f4",
   "metadata": {
    "scrolled": false
   },
   "outputs": [
    {
     "name": "stdout",
     "output_type": "stream",
     "text": [
      "Epoch 1/15\n",
      "94/94 [==============================] - 1s 5ms/step - loss: 0.9007 - accuracy: 0.6339\n",
      "Epoch 2/15\n",
      "94/94 [==============================] - 0s 5ms/step - loss: 0.3640 - accuracy: 0.9075\n",
      "Epoch 3/15\n",
      "94/94 [==============================] - 0s 5ms/step - loss: 0.1609 - accuracy: 0.9649\n",
      "Epoch 4/15\n",
      "94/94 [==============================] - 0s 5ms/step - loss: 0.0978 - accuracy: 0.9820\n",
      "Epoch 5/15\n",
      "94/94 [==============================] - 0s 4ms/step - loss: 0.0775 - accuracy: 0.9856\n",
      "Epoch 6/15\n",
      "94/94 [==============================] - 0s 5ms/step - loss: 0.0477 - accuracy: 0.9903\n",
      "Epoch 7/15\n",
      "94/94 [==============================] - 0s 5ms/step - loss: 0.0453 - accuracy: 0.9893\n",
      "Epoch 8/15\n",
      "94/94 [==============================] - 0s 5ms/step - loss: 0.0346 - accuracy: 0.9913\n",
      "Epoch 9/15\n",
      "94/94 [==============================] - 1s 6ms/step - loss: 0.0185 - accuracy: 0.9983\n",
      "Epoch 10/15\n",
      "94/94 [==============================] - 1s 6ms/step - loss: 0.0140 - accuracy: 0.9993\n",
      "Epoch 11/15\n",
      "94/94 [==============================] - 1s 6ms/step - loss: 0.0110 - accuracy: 0.9993\n",
      "Epoch 12/15\n",
      "94/94 [==============================] - 0s 5ms/step - loss: 0.0092 - accuracy: 0.9997\n",
      "Epoch 13/15\n",
      "94/94 [==============================] - 1s 5ms/step - loss: 0.0081 - accuracy: 0.9997\n",
      "Epoch 14/15\n",
      "94/94 [==============================] - 1s 6ms/step - loss: 0.0061 - accuracy: 1.0000\n",
      "Epoch 15/15\n",
      "94/94 [==============================] - 0s 5ms/step - loss: 0.0056 - accuracy: 0.9997\n",
      "19/19 - 0s - loss: 5.0396 - accuracy: 0.1078 - 211ms/epoch - 11ms/step\n",
      "test_loss: 5.03962516784668 \n",
      "test_accuracy: 0.10779435932636261\n"
     ]
    }
   ],
   "source": [
    "# overfitting 방지해보기\n",
    "\n",
    "\n",
    "# weight initalization 사용 ( ReLu를 활성화함수로 쓰고 있기에 그에 맞는 He 초기값 사용)\n",
    "# strides를 maxpool에 맞게 적용\n",
    "n_channel_1=8\n",
    "n_channel_2=32\n",
    "n_dense=64\n",
    "n_train_epoch=15\n",
    "\n",
    "model=keras.models.Sequential()\n",
    "model.add(keras.layers.Conv2D(n_channel_1, (3,3), activation='relu', kernel_initializer='he_uniform', input_shape=(28,28,3)))\n",
    "model.add(keras.layers.MaxPool2D(pool_size=(2,2), strides=2))\n",
    "model.add(keras.layers.Conv2D(n_channel_2, (3,3), activation='relu', kernel_initializer='he_uniform'))\n",
    "model.add(keras.layers.MaxPool2D(pool_size=(2,2), strides=2))\n",
    "model.add(keras.layers.Flatten())\n",
    "model.add(keras.layers.Dense(n_dense, activation='relu', kernel_initializer='he_uniform'))\n",
    "model.add(keras.layers.Dense(3, activation='softmax'))\n",
    "\n",
    "x_train_norm, x_test_norm = x_train / 255.0, x_test / 255.0\n",
    "\n",
    "model.compile(optimizer='adam',\n",
    "             loss='sparse_categorical_crossentropy',\n",
    "             metrics=['accuracy'])\n",
    "\n",
    "model.fit(x_train_norm, y_train, epochs=n_train_epoch)\n",
    "\n",
    "test_loss, test_accuracy = model.evaluate(x_test_norm, y_test, verbose=2)\n",
    "print(f\"test_loss: {test_loss} \")\n",
    "print(f\"test_accuracy: {test_accuracy}\")"
   ]
  },
  {
   "cell_type": "markdown",
   "id": "e8b5cf76",
   "metadata": {},
   "source": [
    "## 보고서\n",
    "### 개요\n",
    "mainquest 03 관련해서 끝나고 남기는 보고서\n",
    "\n",
    "### summary\n",
    "CNN을 활용해 가위바위보를 분류하고 그에 맞게 test 데이터에서의 성능을 끌어올리기 위해 노력한다.\n",
    "\n",
    "성능을 끌어올리기 위해 overfitting 방지를 위해 정규화, pooling에서의 stride 추가, 가중치 감소를 위해 가중치 초기화 등 여러가지를 사용해서 구현\n",
    "\n",
    "정규화 : x_test_norm , x_train_norm 을 통해 구현해서 0 ~ 255 사이에 값을 가지게 만듬\n",
    "\n",
    "pooling strides : maxpooling 에서는 filter 크기만큼 strides 값을 주는 것이 일반적\n",
    "\n",
    "weight inialization : Relu를 활성화 함수로 사용하게 되면 he 초기화값을 사용해 relu에 최적화된 가중치 값을 할당받을 수 있음\n",
    "\n",
    "### 회고\n",
    "이번주에 하게된 밑바닥 부터 시작하는 딥러닝 시간에는 개인적으로 공부할 시간이 너무 부족했다. 일단 너무나도 많은 일정이 겹쳐있어 이걸 다 소화하기도 힘들었고 중간에 장례식장도 갔다오게 되니 정신적으로 너무 힘들었다. 그러다 보니 공부할 시간이 부족했고, 많은 시간을 투자해서 꼼꼼히 공부하는 스타일이었지만, 이번에는 그러지 못해 기술적으로 너무 부족한게 느껴져 아쉬움이 크다. 이제라도 수업일정이 거의 다 마무리되었고 나머지 일정도 그렇게 힘든게 남아있지 않기 때문에 공부를 추가적으로 진행할 예정이다. 이번 밑시딥에서 같이 한 팀원들과 몇 명을 더 모아서 수업이 끝나고 남아서 하는 스터디 형태로 좀 더 공부할 예정이다."
   ]
  },
  {
   "cell_type": "code",
   "execution_count": null,
   "id": "abfe904c",
   "metadata": {},
   "outputs": [],
   "source": []
  },
  {
   "cell_type": "code",
   "execution_count": null,
   "id": "88797b38",
   "metadata": {},
   "outputs": [],
   "source": []
  }
 ],
 "metadata": {
  "kernelspec": {
   "display_name": "Python 3 (ipykernel)",
   "language": "python",
   "name": "python3"
  },
  "language_info": {
   "codemirror_mode": {
    "name": "ipython",
    "version": 3
   },
   "file_extension": ".py",
   "mimetype": "text/x-python",
   "name": "python",
   "nbconvert_exporter": "python",
   "pygments_lexer": "ipython3",
   "version": "3.11.4"
  }
 },
 "nbformat": 4,
 "nbformat_minor": 5
}
