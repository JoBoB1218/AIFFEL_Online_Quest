{
 "cells": [
  {
   "cell_type": "markdown",
   "id": "20da4e73",
   "metadata": {},
   "source": [
    "## 보스턴 주택 가격 예측 모델"
   ]
  },
  {
   "cell_type": "code",
   "execution_count": 2,
   "id": "465b4cbe",
   "metadata": {},
   "outputs": [
    {
     "name": "stdout",
     "output_type": "stream",
     "text": [
      "WARNING:tensorflow:From C:\\Users\\angel\\anaconda3\\Lib\\site-packages\\keras\\src\\losses.py:2976: The name tf.losses.sparse_softmax_cross_entropy is deprecated. Please use tf.compat.v1.losses.sparse_softmax_cross_entropy instead.\n",
      "\n"
     ]
    }
   ],
   "source": [
    "from tensorflow.keras import models, layers\n",
    "import matplotlib.pyplot as plt"
   ]
  },
  {
   "cell_type": "code",
   "execution_count": 3,
   "id": "98d97220",
   "metadata": {},
   "outputs": [
    {
     "name": "stdout",
     "output_type": "stream",
     "text": [
      "Downloading data from https://storage.googleapis.com/tensorflow/tf-keras-datasets/boston_housing.npz\n",
      "57026/57026 [==============================] - 0s 0us/step\n",
      "404\n",
      "102\n"
     ]
    }
   ],
   "source": [
    "# keras.datasets 안에 boston_housing 데이터셋을 로드합니다.\n",
    "from keras.datasets import boston_housing\n",
    "\n",
    "(train_data, train_labels), (test_data, test_labels) = boston_housing.load_data()\n",
    "\n",
    "# 데이터셋의 크기를 확인합니다.\n",
    "print(len(train_data))\n",
    "print(len(test_data))"
   ]
  },
  {
   "cell_type": "code",
   "execution_count": 4,
   "id": "de29c7f5",
   "metadata": {},
   "outputs": [],
   "source": [
    "# 문제 1-1: 데이터셋의 전처리를 위해 표준화 작업을 수행합니다.\n",
    "# 먼저 입력 데이터의 각 특성의 평균을 뺍니다.\n",
    "mean = train_data.mean(axis=0)\n",
    "train_data -= mean \n",
    "\n",
    "# 평균을 뺀 입력 데이터에서 표준편차를 나눕니다.\n",
    "# 데이터 특성의 중앙이 0에 가깝게 만들고, 표준편차가 1이 되게 만듭니다.\n",
    "std = train_data.std(axis=0)\n",
    "train_data /= std\n",
    "\n",
    "# 테스트 데이터셋도 마찬가지로 평균을 빼고, 표준편차로 나눕니다.\n",
    "test_data -= mean\n",
    "test_data /= std"
   ]
  },
  {
   "cell_type": "code",
   "execution_count": 5,
   "id": "5a8e2257",
   "metadata": {},
   "outputs": [
    {
     "name": "stdout",
     "output_type": "stream",
     "text": [
      "WARNING:tensorflow:From C:\\Users\\angel\\anaconda3\\Lib\\site-packages\\keras\\src\\backend.py:873: The name tf.get_default_graph is deprecated. Please use tf.compat.v1.get_default_graph instead.\n",
      "\n",
      "WARNING:tensorflow:From C:\\Users\\angel\\anaconda3\\Lib\\site-packages\\keras\\src\\optimizers\\__init__.py:309: The name tf.train.Optimizer is deprecated. Please use tf.compat.v1.train.Optimizer instead.\n",
      "\n"
     ]
    }
   ],
   "source": [
    "# 문제 1-2: 주택 가격 예측을 위한 딥러닝 모델 구성 및 컴파일합니다.\n",
    "# input_shape은 (train_data.shape[1], )으로 구성합니다.\n",
    "# 회귀(예측)을 위한 모델이므로 loss를 mse, metrics를 mae로 사용합니다.\n",
    "\n",
    "from tensorflow.keras import models, layers\n",
    "\n",
    "model = models.Sequential()\n",
    "model.add(layers.Input(shape=(13,)))\n",
    "model.add(layers.Dense(64, activation='relu'))\n",
    "model.add(layers.Dense(64, activation='relu'))\n",
    "model.add(layers.Dense(1, activation='linear'))\n",
    "\n",
    "model.compile(loss='mse',\n",
    "             optimizer='SGD',\n",
    "             metrics=['mae'])"
   ]
  },
  {
   "cell_type": "code",
   "execution_count": 6,
   "id": "e1e5319a",
   "metadata": {},
   "outputs": [
    {
     "name": "stdout",
     "output_type": "stream",
     "text": [
      "Epoch 1/60\n",
      "WARNING:tensorflow:From C:\\Users\\angel\\anaconda3\\Lib\\site-packages\\keras\\src\\utils\\tf_utils.py:492: The name tf.ragged.RaggedTensorValue is deprecated. Please use tf.compat.v1.ragged.RaggedTensorValue instead.\n",
      "\n",
      "WARNING:tensorflow:From C:\\Users\\angel\\anaconda3\\Lib\\site-packages\\keras\\src\\engine\\base_layer_utils.py:384: The name tf.executing_eagerly_outside_functions is deprecated. Please use tf.compat.v1.executing_eagerly_outside_functions instead.\n",
      "\n",
      "1/1 [==============================] - 1s 884ms/step - loss: 595.5981 - mae: 22.5922 - val_loss: 522.4658 - val_mae: 20.9480\n",
      "Epoch 2/60\n",
      "1/1 [==============================] - 0s 37ms/step - loss: 497.0373 - mae: 20.2993 - val_loss: 319.9053 - val_mae: 15.6680\n",
      "Epoch 3/60\n",
      "1/1 [==============================] - 0s 40ms/step - loss: 303.6556 - mae: 15.1218 - val_loss: 158.7466 - val_mae: 9.9564\n",
      "Epoch 4/60\n",
      "1/1 [==============================] - 0s 38ms/step - loss: 145.7855 - mae: 9.3112 - val_loss: 425.9799 - val_mae: 18.3461\n",
      "Epoch 5/60\n",
      "1/1 [==============================] - 0s 39ms/step - loss: 403.2592 - mae: 17.7136 - val_loss: 216.8088 - val_mae: 12.2487\n",
      "Epoch 6/60\n",
      "1/1 [==============================] - 0s 40ms/step - loss: 200.0702 - mae: 11.2556 - val_loss: 77.1739 - val_mae: 6.5814\n",
      "Epoch 7/60\n",
      "1/1 [==============================] - 0s 39ms/step - loss: 63.5671 - mae: 6.3426 - val_loss: 108.4532 - val_mae: 9.1468\n",
      "Epoch 8/60\n",
      "1/1 [==============================] - 0s 41ms/step - loss: 101.8852 - mae: 8.6452 - val_loss: 326.2923 - val_mae: 14.5062\n",
      "Epoch 9/60\n",
      "1/1 [==============================] - 0s 38ms/step - loss: 335.2312 - mae: 14.3060 - val_loss: 565.4744 - val_mae: 21.9266\n",
      "Epoch 10/60\n",
      "1/1 [==============================] - 0s 41ms/step - loss: 538.0485 - mae: 21.2566 - val_loss: 528.5639 - val_mae: 21.1104\n",
      "Epoch 11/60\n",
      "1/1 [==============================] - 0s 38ms/step - loss: 502.0333 - mae: 20.4347 - val_loss: 487.4550 - val_mae: 20.0651\n",
      "Epoch 12/60\n",
      "1/1 [==============================] - 0s 39ms/step - loss: 461.9095 - mae: 19.3910 - val_loss: 414.7288 - val_mae: 17.8122\n",
      "Epoch 13/60\n",
      "1/1 [==============================] - 0s 38ms/step - loss: 389.8748 - mae: 17.0315 - val_loss: 314.3260 - val_mae: 15.2029\n",
      "Epoch 14/60\n",
      "1/1 [==============================] - 0s 37ms/step - loss: 293.6705 - mae: 14.3477 - val_loss: 185.0653 - val_mae: 11.3008\n",
      "Epoch 15/60\n",
      "1/1 [==============================] - 0s 38ms/step - loss: 172.0541 - mae: 10.5669 - val_loss: 89.7292 - val_mae: 7.5414\n",
      "Epoch 16/60\n",
      "1/1 [==============================] - 0s 41ms/step - loss: 79.2731 - mae: 6.9272 - val_loss: 175.4229 - val_mae: 11.4646\n",
      "Epoch 17/60\n",
      "1/1 [==============================] - 0s 41ms/step - loss: 166.7264 - mae: 10.9386 - val_loss: 113.5395 - val_mae: 8.9337\n",
      "Epoch 18/60\n",
      "1/1 [==============================] - 0s 47ms/step - loss: 105.7696 - mae: 9.0254 - val_loss: 334.9601 - val_mae: 16.6425\n",
      "Epoch 19/60\n",
      "1/1 [==============================] - 0s 41ms/step - loss: 318.5382 - mae: 16.0064 - val_loss: 163.7220 - val_mae: 11.4368\n",
      "Epoch 20/60\n",
      "1/1 [==============================] - 0s 41ms/step - loss: 158.9197 - mae: 10.9185 - val_loss: 71.8542 - val_mae: 7.1732\n",
      "Epoch 21/60\n",
      "1/1 [==============================] - 0s 42ms/step - loss: 82.2622 - mae: 7.5320 - val_loss: 193.6625 - val_mae: 11.3723\n",
      "Epoch 22/60\n",
      "1/1 [==============================] - 0s 38ms/step - loss: 179.4388 - mae: 10.5277 - val_loss: 90.3326 - val_mae: 7.8644\n",
      "Epoch 23/60\n",
      "1/1 [==============================] - 0s 41ms/step - loss: 70.9188 - mae: 6.9877 - val_loss: 30.0446 - val_mae: 4.1437\n",
      "Epoch 24/60\n",
      "1/1 [==============================] - 0s 43ms/step - loss: 36.3343 - mae: 4.1852 - val_loss: 25.7153 - val_mae: 3.7515\n",
      "Epoch 25/60\n",
      "1/1 [==============================] - 0s 43ms/step - loss: 19.0324 - mae: 2.9288 - val_loss: 29.2730 - val_mae: 4.0388\n",
      "Epoch 26/60\n",
      "1/1 [==============================] - 0s 42ms/step - loss: 23.4880 - mae: 3.6848 - val_loss: 59.0953 - val_mae: 6.1775\n",
      "Epoch 27/60\n",
      "1/1 [==============================] - 0s 41ms/step - loss: 50.3302 - mae: 5.4229 - val_loss: 79.0277 - val_mae: 7.2367\n",
      "Epoch 28/60\n",
      "1/1 [==============================] - 0s 43ms/step - loss: 67.5638 - mae: 7.0704 - val_loss: 206.9750 - val_mae: 12.2887\n",
      "Epoch 29/60\n",
      "1/1 [==============================] - 0s 48ms/step - loss: 196.3526 - mae: 11.8770 - val_loss: 64.1712 - val_mae: 6.2232\n",
      "Epoch 30/60\n",
      "1/1 [==============================] - 0s 40ms/step - loss: 48.5650 - mae: 5.1734 - val_loss: 32.1668 - val_mae: 3.7994\n",
      "Epoch 31/60\n",
      "1/1 [==============================] - 0s 41ms/step - loss: 21.2271 - mae: 3.5555 - val_loss: 43.2364 - val_mae: 5.0241\n",
      "Epoch 32/60\n",
      "1/1 [==============================] - 0s 41ms/step - loss: 34.0286 - mae: 4.2486 - val_loss: 56.9053 - val_mae: 5.6837\n",
      "Epoch 33/60\n",
      "1/1 [==============================] - 0s 42ms/step - loss: 41.2954 - mae: 5.4437 - val_loss: 114.0383 - val_mae: 8.7817\n",
      "Epoch 34/60\n",
      "1/1 [==============================] - 0s 37ms/step - loss: 105.6857 - mae: 8.3403 - val_loss: 43.4534 - val_mae: 4.3729\n",
      "Epoch 35/60\n",
      "1/1 [==============================] - 0s 37ms/step - loss: 21.1057 - mae: 3.5961 - val_loss: 29.3699 - val_mae: 3.9861\n",
      "Epoch 36/60\n",
      "1/1 [==============================] - 0s 38ms/step - loss: 25.0930 - mae: 3.5251 - val_loss: 41.3474 - val_mae: 4.5421\n",
      "Epoch 37/60\n",
      "1/1 [==============================] - 0s 39ms/step - loss: 26.8530 - mae: 4.1812 - val_loss: 69.1886 - val_mae: 6.5496\n",
      "Epoch 38/60\n",
      "1/1 [==============================] - 0s 36ms/step - loss: 59.1546 - mae: 5.9004 - val_loss: 51.1710 - val_mae: 5.0424\n",
      "Epoch 39/60\n",
      "1/1 [==============================] - 0s 40ms/step - loss: 29.3883 - mae: 4.5193 - val_loss: 67.0967 - val_mae: 6.6104\n",
      "Epoch 40/60\n",
      "1/1 [==============================] - 0s 35ms/step - loss: 59.3969 - mae: 6.1204 - val_loss: 49.3137 - val_mae: 4.9833\n",
      "Epoch 41/60\n",
      "1/1 [==============================] - 0s 34ms/step - loss: 30.1162 - mae: 4.5560 - val_loss: 72.3650 - val_mae: 6.7076\n",
      "Epoch 42/60\n",
      "1/1 [==============================] - 0s 33ms/step - loss: 63.0293 - mae: 6.1644 - val_loss: 44.9105 - val_mae: 4.4589\n",
      "Epoch 43/60\n",
      "1/1 [==============================] - 0s 37ms/step - loss: 22.8927 - mae: 3.8940 - val_loss: 46.4626 - val_mae: 5.2777\n",
      "Epoch 44/60\n",
      "1/1 [==============================] - 0s 34ms/step - loss: 37.8807 - mae: 4.6796 - val_loss: 47.5672 - val_mae: 4.8243\n",
      "Epoch 45/60\n",
      "1/1 [==============================] - 0s 36ms/step - loss: 28.7299 - mae: 4.3905 - val_loss: 68.0691 - val_mae: 6.4165\n",
      "Epoch 46/60\n",
      "1/1 [==============================] - 0s 34ms/step - loss: 57.8655 - mae: 5.8033 - val_loss: 42.4720 - val_mae: 4.1596\n",
      "Epoch 47/60\n",
      "1/1 [==============================] - 0s 37ms/step - loss: 19.7916 - mae: 3.5380 - val_loss: 37.1681 - val_mae: 4.5812\n",
      "Epoch 48/60\n",
      "1/1 [==============================] - 0s 35ms/step - loss: 28.1540 - mae: 3.9171 - val_loss: 42.8200 - val_mae: 4.4518\n",
      "Epoch 49/60\n",
      "1/1 [==============================] - 0s 39ms/step - loss: 24.5560 - mae: 3.9864 - val_loss: 56.5984 - val_mae: 5.7726\n",
      "Epoch 50/60\n",
      "1/1 [==============================] - 0s 35ms/step - loss: 45.5976 - mae: 5.0538 - val_loss: 41.5638 - val_mae: 4.1581\n",
      "Epoch 51/60\n",
      "1/1 [==============================] - 0s 39ms/step - loss: 20.0824 - mae: 3.5929 - val_loss: 40.6129 - val_mae: 4.7960\n",
      "Epoch 52/60\n",
      "1/1 [==============================] - 0s 36ms/step - loss: 30.5901 - mae: 4.1004 - val_loss: 41.7823 - val_mae: 4.3246\n",
      "Epoch 53/60\n",
      "1/1 [==============================] - 0s 35ms/step - loss: 22.6332 - mae: 3.8259 - val_loss: 50.2838 - val_mae: 5.4002\n",
      "Epoch 54/60\n",
      "1/1 [==============================] - 0s 36ms/step - loss: 39.2090 - mae: 4.6573 - val_loss: 40.3638 - val_mae: 4.1056\n",
      "Epoch 55/60\n",
      "1/1 [==============================] - 0s 37ms/step - loss: 19.7140 - mae: 3.5541 - val_loss: 40.9568 - val_mae: 4.7998\n",
      "Epoch 56/60\n",
      "1/1 [==============================] - 0s 36ms/step - loss: 30.2617 - mae: 4.0552 - val_loss: 39.9181 - val_mae: 4.1371\n",
      "Epoch 57/60\n",
      "1/1 [==============================] - 0s 38ms/step - loss: 20.4907 - mae: 3.6173 - val_loss: 44.3363 - val_mae: 5.0158\n",
      "Epoch 58/60\n",
      "1/1 [==============================] - 0s 33ms/step - loss: 33.0621 - mae: 4.2384 - val_loss: 38.9976 - val_mae: 4.0213\n",
      "Epoch 59/60\n"
     ]
    },
    {
     "name": "stdout",
     "output_type": "stream",
     "text": [
      "1/1 [==============================] - 0s 41ms/step - loss: 19.0771 - mae: 3.4800 - val_loss: 40.2252 - val_mae: 4.7402\n",
      "Epoch 60/60\n",
      "1/1 [==============================] - 0s 36ms/step - loss: 28.9867 - mae: 3.9481 - val_loss: 38.2814 - val_mae: 3.9899\n"
     ]
    }
   ],
   "source": [
    "# 문제 1-3: 예측을 위한 딥러닝 모델을 학습합니다.\n",
    "history = model.fit(train_data, train_labels,\n",
    "                   epochs=60,\n",
    "                   batch_size=512,\n",
    "                   validation_data=(test_data, test_labels))"
   ]
  },
  {
   "cell_type": "code",
   "execution_count": 7,
   "id": "ecbebb1d",
   "metadata": {},
   "outputs": [
    {
     "name": "stderr",
     "output_type": "stream",
     "text": [
      "C:\\Users\\angel\\AppData\\Local\\Temp\\ipykernel_33748\\2438909638.py:2: MatplotlibDeprecationWarning: The seaborn styles shipped by Matplotlib are deprecated since 3.6, as they no longer correspond to the styles shipped by seaborn. However, they will remain available as 'seaborn-v0_8-<style>'. Alternatively, directly use the seaborn API instead.\n",
      "  plt.style.use('seaborn-white')\n"
     ]
    },
    {
     "data": {
      "image/png": "[encoded data removed]",
      "text/plain": [
       "<Figure size 1200x500 with 2 Axes>"
      ]
     },
     "metadata": {},
     "output_type": "display_data"
    }
   ],
   "source": [
    "# 모델 학습 히스토리에서 loss, val_loss, mae, val_mae를 차트로 보여줍니다.\n",
    "plt.style.use('seaborn-white')\n",
    "\n",
    "history_dict = history.history\n",
    "\n",
    "loss = history_dict['loss']\n",
    "val_loss = history_dict['val_loss']\n",
    "\n",
    "epochs = range(1, len(loss) + 1)\n",
    "fig = plt.figure(figsize=(12, 5))\n",
    "\n",
    "ax1 = fig.add_subplot(1, 2, 1)\n",
    "ax1.plot(epochs, loss, 'b-', label='train_loss')\n",
    "ax1.plot(epochs, val_loss, 'r-', label='val_loss')\n",
    "ax1.set_title('Train and Validation Loss')\n",
    "ax1.set_xlabel('Epochs')\n",
    "ax1.set_ylabel('Loss')\n",
    "ax1.grid()\n",
    "ax1.legend()\n",
    "\n",
    "mae = history_dict['mae']\n",
    "val_mae = history_dict['val_mae']\n",
    "\n",
    "ax2 = fig.add_subplot(1, 2, 2)\n",
    "ax2.plot(epochs, mae, 'b-', label='train_mae')\n",
    "ax2.plot(epochs, val_mae, 'r-', label='val_mae')\n",
    "ax2.set_title('Train and Validation MAE')\n",
    "ax2.set_xlabel('Epochs')\n",
    "ax2.set_ylabel('Accuracy')\n",
    "ax2.grid()\n",
    "ax2.legend()\n",
    "\n",
    "plt.show()"
   ]
  },
  {
   "cell_type": "code",
   "execution_count": 8,
   "id": "2678d22d",
   "metadata": {},
   "outputs": [
    {
     "name": "stdout",
     "output_type": "stream",
     "text": [
      "13/13 [==============================] - 0s 1ms/step - loss: 18.9490 - mae: 3.4588\n"
     ]
    },
    {
     "data": {
      "text/plain": [
       "[18.949010848999023, 3.4588310718536377]"
      ]
     },
     "execution_count": 8,
     "metadata": {},
     "output_type": "execute_result"
    }
   ],
   "source": [
    "# 문제 1-4: 테스트 데이터셋을 이용해 모델을 평가합니다.\n",
    "model.evaluate(train_data, train_labels)"
   ]
  },
  {
   "cell_type": "markdown",
   "id": "484658b6",
   "metadata": {},
   "source": [
    "## Reuters 딥러닝 모델"
   ]
  },
  {
   "cell_type": "code",
   "execution_count": 10,
   "id": "94fbdc95",
   "metadata": {},
   "outputs": [],
   "source": [
    "import numpy as np\n",
    "import matplotlib.pyplot as plt\n",
    "from sklearn.model_selection import train_test_split\n",
    "\n",
    "from tensorflow.keras import models, layers\n",
    "from tensorflow.keras import callbacks\n",
    "from tensorflow.keras import utils\n",
    "from keras.datasets import reuters"
   ]
  },
  {
   "cell_type": "code",
   "execution_count": 11,
   "id": "4fdf96c5",
   "metadata": {},
   "outputs": [
    {
     "name": "stdout",
     "output_type": "stream",
     "text": [
      "Downloading data from https://storage.googleapis.com/tensorflow/tf-keras-datasets/reuters.npz\n",
      "2110848/2110848 [==============================] - 0s 0us/step\n",
      "6736\n",
      "2246\n",
      "2246\n",
      "46\n"
     ]
    }
   ],
   "source": [
    "# 문제 2-1: reuters 데이터셋을 로드하고, 훈련 데이터셋에서 25%를 검증 데이터셋으로 분리합니다.\n",
    "(train_data_full, train_labels_full), (test_data, test_labels) = reuters.load_data(num_words=10000)\n",
    "\n",
    "train_data, val_data, train_labels, val_labels = train_test_split(train_data_full, train_labels_full,\n",
    "                                                 test_size = 0.25,\n",
    "                                                 random_state = 123)\n",
    "\n",
    "# 훈련, 검증, 테스트 데이터와 레이블 종류가 몇 개인지 출력합니다.\n",
    "print(len(train_data))\n",
    "print(len(val_data))\n",
    "print(len(test_data))\n",
    "print(len(set(train_labels)))"
   ]
  },
  {
   "cell_type": "code",
   "execution_count": 12,
   "id": "f7b89cd6",
   "metadata": {},
   "outputs": [
    {
     "name": "stdout",
     "output_type": "stream",
     "text": [
      "(6736, 10000)\n",
      "(2246, 10000)\n",
      "(2246, 10000)\n",
      "(6736, 46)\n",
      "(2246, 46)\n",
      "(2246, 46)\n"
     ]
    }
   ],
   "source": [
    "# 문제 2-2: 텍스트 데이터의 전처리를 위해서 각 데이터셋마다 원-핫 인코딩을 수행합니다.\n",
    "from tensorflow.keras.utils import to_categorical\n",
    "\n",
    "def one_hot_encoding(data, dim=10000):\n",
    "    results = np.zeros((len(data), dim))\n",
    "    for i, d in enumerate(data):\n",
    "        results[i, d] = 1\n",
    "    return results\n",
    "\n",
    "x_train = one_hot_encoding(train_data)\n",
    "x_val = one_hot_encoding(val_data)\n",
    "x_test = one_hot_encoding(test_data)\n",
    "\n",
    "# 레이블 데이터들은 범주형 형태로 to_categorical() 함수를 사용해 변환합니다.\n",
    "y_train = to_categorical(train_labels)\n",
    "y_val = to_categorical(val_labels)\n",
    "y_test = to_categorical(test_labels)\n",
    "\n",
    "print(x_train.shape)\n",
    "print(x_val.shape)\n",
    "print(x_test.shape)\n",
    "print(y_train.shape)\n",
    "print(y_val.shape)\n",
    "print(y_test.shape)"
   ]
  },
  {
   "cell_type": "code",
   "execution_count": 13,
   "id": "4bf87312",
   "metadata": {},
   "outputs": [],
   "source": [
    "# 문제 2-3: 빠른 학습과 과대적합을 방지하기 위해 BatchNormalization과 Dropout을 적용한 딥러닝 모델을 구성합니다.\n",
    "import tensorflow as tf\n",
    "from tensorflow.keras import models, layers\n",
    "\n",
    "model = models.Sequential()\n",
    "model.add(layers.Dense(128, input_shape=(10000, )))\n",
    "model.add(layers.BatchNormalization())\n",
    "model.add(layers.Activation('relu'))\n",
    "model.add(layers.Dropout(0.5))\n",
    "model.add(layers.Dense(128))\n",
    "model.add(layers.BatchNormalization())\n",
    "model.add(layers.Activation('relu'))\n",
    "model.add(layers.Dropout(0.5))\n",
    "model.add(layers.Dense(46, activation='sigmoid'))\n",
    "\n",
    "model.compile(optimizer='rmsprop',\n",
    "             loss='binary_crossentropy',\n",
    "             metrics=['acc'])\n"
   ]
  },
  {
   "cell_type": "code",
   "execution_count": 14,
   "id": "59d65d01",
   "metadata": {},
   "outputs": [
    {
     "name": "stdout",
     "output_type": "stream",
     "text": [
      "Model: \"sequential_1\"\n",
      "_________________________________________________________________\n",
      " Layer (type)                Output Shape              Param #   \n",
      "=================================================================\n",
      " dense_3 (Dense)             (None, 128)               1280128   \n",
      "                                                                 \n",
      " batch_normalization (Batch  (None, 128)               512       \n",
      " Normalization)                                                  \n",
      "                                                                 \n",
      " activation (Activation)     (None, 128)               0         \n",
      "                                                                 \n",
      " dropout (Dropout)           (None, 128)               0         \n",
      "                                                                 \n",
      " dense_4 (Dense)             (None, 128)               16512     \n",
      "                                                                 \n",
      " batch_normalization_1 (Bat  (None, 128)               512       \n",
      " chNormalization)                                                \n",
      "                                                                 \n",
      " activation_1 (Activation)   (None, 128)               0         \n",
      "                                                                 \n",
      " dropout_1 (Dropout)         (None, 128)               0         \n",
      "                                                                 \n",
      " dense_5 (Dense)             (None, 46)                5934      \n",
      "                                                                 \n",
      "=================================================================\n",
      "Total params: 1303598 (4.97 MB)\n",
      "Trainable params: 1303086 (4.97 MB)\n",
      "Non-trainable params: 512 (2.00 KB)\n",
      "_________________________________________________________________\n"
     ]
    }
   ],
   "source": [
    "model.summary()"
   ]
  },
  {
   "cell_type": "code",
   "execution_count": 15,
   "id": "856dfa15",
   "metadata": {},
   "outputs": [
    {
     "name": "stdout",
     "output_type": "stream",
     "text": [
      "Epoch 1/60\n",
      "211/211 [==============================] - 3s 9ms/step - loss: 0.1554 - acc: 0.4528 - val_loss: 0.0606 - val_acc: 0.6687\n",
      "Epoch 2/60\n",
      " 17/211 [=>............................] - ETA: 1s - loss: 0.0488 - acc: 0.6360"
     ]
    },
    {
     "name": "stderr",
     "output_type": "stream",
     "text": [
      "C:\\Users\\angel\\anaconda3\\Lib\\site-packages\\keras\\src\\engine\\training.py:3103: UserWarning: You are saving your model as an HDF5 file via `model.save()`. This file format is considered legacy. We recommend using instead the native Keras format, e.g. `model.save('my_model.keras')`.\n",
      "  saving_api.save_model(\n"
     ]
    },
    {
     "name": "stdout",
     "output_type": "stream",
     "text": [
      "211/211 [==============================] - 1s 7ms/step - loss: 0.0457 - acc: 0.6678 - val_loss: 0.0384 - val_acc: 0.7128\n",
      "Epoch 3/60\n",
      "211/211 [==============================] - 1s 7ms/step - loss: 0.0379 - acc: 0.7262 - val_loss: 0.0362 - val_acc: 0.7440\n",
      "Epoch 4/60\n",
      "211/211 [==============================] - 1s 7ms/step - loss: 0.0343 - acc: 0.7531 - val_loss: 0.0353 - val_acc: 0.7533\n",
      "Epoch 5/60\n",
      "211/211 [==============================] - 1s 7ms/step - loss: 0.0306 - acc: 0.7784 - val_loss: 0.0350 - val_acc: 0.7605\n",
      "Epoch 6/60\n",
      "211/211 [==============================] - 2s 7ms/step - loss: 0.0277 - acc: 0.8073 - val_loss: 0.0348 - val_acc: 0.7671\n",
      "Epoch 7/60\n",
      "211/211 [==============================] - 1s 6ms/step - loss: 0.0258 - acc: 0.8146 - val_loss: 0.0347 - val_acc: 0.7720\n",
      "Epoch 8/60\n",
      "211/211 [==============================] - 1s 7ms/step - loss: 0.0237 - acc: 0.8306 - val_loss: 0.0356 - val_acc: 0.7747\n",
      "Epoch 9/60\n",
      "211/211 [==============================] - 1s 6ms/step - loss: 0.0225 - acc: 0.8385 - val_loss: 0.0347 - val_acc: 0.7787\n",
      "Epoch 10/60\n",
      "211/211 [==============================] - 1s 6ms/step - loss: 0.0210 - acc: 0.8510 - val_loss: 0.0354 - val_acc: 0.7752\n",
      "Epoch 11/60\n",
      "211/211 [==============================] - 1s 6ms/step - loss: 0.0205 - acc: 0.8553 - val_loss: 0.0357 - val_acc: 0.7801\n",
      "Epoch 12/60\n",
      "211/211 [==============================] - 1s 6ms/step - loss: 0.0192 - acc: 0.8652 - val_loss: 0.0360 - val_acc: 0.7778\n",
      "Epoch 13/60\n",
      "211/211 [==============================] - 1s 6ms/step - loss: 0.0186 - acc: 0.8658 - val_loss: 0.0361 - val_acc: 0.7801\n",
      "Epoch 14/60\n",
      "211/211 [==============================] - 1s 6ms/step - loss: 0.0177 - acc: 0.8783 - val_loss: 0.0369 - val_acc: 0.7818\n",
      "Epoch 15/60\n",
      "211/211 [==============================] - 2s 7ms/step - loss: 0.0172 - acc: 0.8811 - val_loss: 0.0366 - val_acc: 0.7814\n",
      "Epoch 16/60\n",
      "211/211 [==============================] - 2s 8ms/step - loss: 0.0167 - acc: 0.8864 - val_loss: 0.0376 - val_acc: 0.7858\n",
      "Epoch 17/60\n",
      "211/211 [==============================] - 2s 7ms/step - loss: 0.0158 - acc: 0.8918 - val_loss: 0.0383 - val_acc: 0.7854\n",
      "Epoch 18/60\n",
      "211/211 [==============================] - 1s 7ms/step - loss: 0.0160 - acc: 0.8858 - val_loss: 0.0376 - val_acc: 0.7912\n",
      "Epoch 19/60\n",
      "211/211 [==============================] - 1s 7ms/step - loss: 0.0148 - acc: 0.8989 - val_loss: 0.0382 - val_acc: 0.7858\n"
     ]
    }
   ],
   "source": [
    "# 문제 2-4: ModelCheckpoint와 EarlyStopping 콜백 함수를 적용하여 모델 학습을 진행합니다.\n",
    "from tensorflow.keras import callbacks\n",
    "\n",
    "check_point_cb = callbacks.ModelCheckpoint('fashion_mnist_model.h5',\n",
    "                                          save_best_only=True)\n",
    "early_stopping_cb = callbacks.EarlyStopping(patience=10,\n",
    "                                           monitor='val_loss',\n",
    "                                           restore_best_weights=True)\n",
    "\n",
    "\n",
    "history = model.fit(x_train, y_train,\n",
    "                   epochs=60,\n",
    "                   validation_data=(x_val, y_val),\n",
    "                   callbacks=[check_point_cb, early_stopping_cb])"
   ]
  },
  {
   "cell_type": "code",
   "execution_count": 16,
   "id": "dfb5c1ac",
   "metadata": {},
   "outputs": [
    {
     "name": "stderr",
     "output_type": "stream",
     "text": [
      "C:\\Users\\angel\\AppData\\Local\\Temp\\ipykernel_33748\\504201823.py:2: MatplotlibDeprecationWarning: The seaborn styles shipped by Matplotlib are deprecated since 3.6, as they no longer correspond to the styles shipped by seaborn. However, they will remain available as 'seaborn-v0_8-<style>'. Alternatively, directly use the seaborn API instead.\n",
      "  plt.style.use('seaborn-white')\n"
     ]
    },
    {
     "data": {
      "image/png": "[encoded data removed]",
      "text/plain": [
       "<Figure size 1200x500 with 2 Axes>"
      ]
     },
     "metadata": {},
     "output_type": "display_data"
    }
   ],
   "source": [
    "# 학습 히스토리의 `loss`, `val_loss`, `accuracy`, `val_accuracy`를 차트로 시각화합니다.\n",
    "plt.style.use('seaborn-white')\n",
    "\n",
    "history_dict = history.history\n",
    "\n",
    "loss = history_dict['loss']\n",
    "val_loss = history_dict['val_loss']\n",
    "\n",
    "epochs = range(1, len(loss) + 1)\n",
    "fig = plt.figure(figsize=(12, 5))\n",
    "\n",
    "ax1 = fig.add_subplot(1, 2, 1)\n",
    "ax1.plot(epochs, loss, 'b-', label='train_loss')\n",
    "ax1.plot(epochs, val_loss, 'r-', label='val_loss')\n",
    "ax1.set_title('Train and Validation Loss')\n",
    "ax1.set_xlabel('Epochs')\n",
    "ax1.set_ylabel('Loss')\n",
    "ax1.grid()\n",
    "ax1.legend()\n",
    "\n",
    "accuracy = history_dict['acc']\n",
    "val_accuracy = history_dict['val_acc']\n",
    "\n",
    "ax2 = fig.add_subplot(1, 2, 2)\n",
    "ax2.plot(epochs, accuracy, 'b-', label='train_accuracy')\n",
    "ax2.plot(epochs, val_accuracy, 'r-', label='val_accuracy')\n",
    "ax2.set_title('Train and Validation Accuracy')\n",
    "ax2.set_xlabel('Epochs')\n",
    "ax2.set_ylabel('Accuracy')\n",
    "ax2.grid()\n",
    "ax2.legend()\n",
    "\n",
    "plt.show()\n"
   ]
  },
  {
   "cell_type": "code",
   "execution_count": 17,
   "id": "d0db2898",
   "metadata": {},
   "outputs": [
    {
     "name": "stdout",
     "output_type": "stream",
     "text": [
      "71/71 [==============================] - 0s 2ms/step - loss: 0.0346 - acc: 0.7694\n"
     ]
    },
    {
     "data": {
      "text/plain": [
       "[0.0345686636865139, 0.7693677544593811]"
      ]
     },
     "execution_count": 17,
     "metadata": {},
     "output_type": "execute_result"
    }
   ],
   "source": [
    "# 문제 2-5: 테스트 데이터셋을 이용해 모델을 평가합니다.\n",
    "model.evaluate(x_test, y_test)"
   ]
  },
  {
   "cell_type": "markdown",
   "id": "9a5ff8d1",
   "metadata": {},
   "source": [
    "## CIFAR10 딥러닝 모델"
   ]
  },
  {
   "cell_type": "code",
   "execution_count": 19,
   "id": "c747f126",
   "metadata": {},
   "outputs": [],
   "source": [
    "import matplotlib.pyplot as plt\n",
    "from sklearn.model_selection import train_test_split\n",
    "\n",
    "from tensorflow.keras import models, layers\n",
    "from tensorflow.keras.datasets import cifar10"
   ]
  },
  {
   "cell_type": "code",
   "execution_count": 20,
   "id": "fb1cd60a",
   "metadata": {},
   "outputs": [
    {
     "name": "stdout",
     "output_type": "stream",
     "text": [
      "Downloading data from https://www.cs.toronto.edu/~kriz/cifar-10-python.tar.gz\n",
      "170498071/170498071 [==============================] - 73s 0us/step\n",
      "전체 학습 데이터: (50000, 32, 32, 3) 레이블: (50000, 1)\n",
      "학습 데이터: (40000, 32, 32, 3) 레이블: (40000, 1)\n",
      "검증 데이터: (10000, 32, 32, 3) 레이블: (10000, 1)\n",
      "테스트 데이터: (10000, 32, 32, 3) 레이블: (10000, 1)\n"
     ]
    }
   ],
   "source": [
    "# 문제 3-1: cifar10 데이터셋을 로드하고, 훈련 데이터셋에서 20%를 검증 데이터셋으로 분리합니다.\n",
    "\n",
    "from tensorflow.keras.datasets import fashion_mnist\n",
    "from sklearn.model_selection import train_test_split\n",
    "\n",
    "(x_train_full, y_train_full), (x_test, y_test) = cifar10.load_data()\n",
    "\n",
    "x_train, x_val, y_train, y_val = train_test_split(x_train_full, y_train_full,\n",
    "                                                 test_size = 0.2,\n",
    "                                                 random_state = 123)\n",
    "\n",
    "# 훈련, 검증, 테스트 데이터와 레이블 종류가 몇개인지 출력합니다.\n",
    "print(\"전체 학습 데이터: {} 레이블: {}\".format(x_train_full.shape, y_train_full.shape))\n",
    "print(\"학습 데이터: {} 레이블: {}\".format(x_train.shape, y_train.shape))\n",
    "print(\"검증 데이터: {} 레이블: {}\".format(x_val.shape, y_val.shape))\n",
    "print(\"테스트 데이터: {} 레이블: {}\".format(x_test.shape, y_test.shape))"
   ]
  },
  {
   "cell_type": "code",
   "execution_count": 21,
   "id": "ffc11fbf",
   "metadata": {},
   "outputs": [],
   "source": [
    "# cifar10의 분류에 해당하는 'airplane', 'automobile', 'bird', 'cat', 'deer', \n",
    "# 'dog', 'frog', 'horse', 'ship', 'truck'를 class_name으로 정의합니다.\n",
    "class_names = ['airplane', 'automobile', 'bird', 'cat', 'deer',\n",
    "               'dog', 'frog', 'horse', 'ship', 'truck']"
   ]
  },
  {
   "cell_type": "code",
   "execution_count": 22,
   "id": "afb4cda4",
   "metadata": {},
   "outputs": [
    {
     "name": "stderr",
     "output_type": "stream",
     "text": [
      "C:\\Users\\angel\\AppData\\Local\\Temp\\ipykernel_33748\\2355943253.py:2: MatplotlibDeprecationWarning: The seaborn styles shipped by Matplotlib are deprecated since 3.6, as they no longer correspond to the styles shipped by seaborn. However, they will remain available as 'seaborn-v0_8-<style>'. Alternatively, directly use the seaborn API instead.\n",
      "  plt.style.use('seaborn-white')\n"
     ]
    },
    {
     "data": {
      "image/png": "[encoded data removed]",
      "text/plain": [
       "<Figure size 640x480 with 2 Axes>"
      ]
     },
     "metadata": {},
     "output_type": "display_data"
    }
   ],
   "source": [
    "# 훈련 데이터의 0번째인 x_train[0]를 이미지로 시각화합니다.\n",
    "plt.style.use('seaborn-white')\n",
    "\n",
    "plt.figure()\n",
    "plt.imshow(x_train[0])\n",
    "plt.colorbar()\n",
    "plt.show()"
   ]
  },
  {
   "cell_type": "code",
   "execution_count": 23,
   "id": "19a7f51a",
   "metadata": {},
   "outputs": [
    {
     "name": "stdout",
     "output_type": "stream",
     "text": [
      "(40000, 32, 32, 3)\n",
      "(10000, 32, 32, 3)\n",
      "(10000, 32, 32, 3)\n"
     ]
    }
   ],
   "source": [
    "# 훈련, 검증, 테스트 데이터의 형태(shape)을 출력합니다.\n",
    "print(x_train.shape)\n",
    "print(x_val.shape)\n",
    "print(x_test.shape)"
   ]
  },
  {
   "cell_type": "code",
   "execution_count": 24,
   "id": "27ea4563",
   "metadata": {},
   "outputs": [
    {
     "name": "stdout",
     "output_type": "stream",
     "text": [
      "(40000, 3072)\n",
      "(10000, 3072)\n",
      "(10000, 3072)\n"
     ]
    }
   ],
   "source": [
    "# 문제 3-2: 훈련, 검증, 테스트 데이터의 형태(shape)을 32 * 32 * 3 = 3072로 변형합니다.\n",
    "x_train = x_train.reshape(-1, 32*32*3)\n",
    "x_val = x_val.reshape(-1, 32*32*3)\n",
    "x_test = x_test.reshape(-1, 32*32*3)\n",
    "\n",
    "print(x_train.shape)\n",
    "print(x_val.shape)\n",
    "print(x_test.shape)"
   ]
  },
  {
   "cell_type": "code",
   "execution_count": 25,
   "id": "77376055",
   "metadata": {},
   "outputs": [
    {
     "name": "stdout",
     "output_type": "stream",
     "text": [
      "(40000, 3072)\n",
      "[0]\n"
     ]
    }
   ],
   "source": [
    "# 훈련, 검증, 테스트 데이터를 255로 나누어 0~1 사이의 값으로 변환합니다.\n",
    "x_train = x_train / 255.\n",
    "x_val = x_val / 255.\n",
    "x_test = x_test / 255.\n",
    "\n",
    "print(x_train.shape)\n",
    "print(y_train[0])"
   ]
  },
  {
   "cell_type": "code",
   "execution_count": 26,
   "id": "15f87d82",
   "metadata": {},
   "outputs": [],
   "source": [
    "# 문제 3-3: BatchNormalization과 Dropout을 적용하여 빠른 학습과 과대적합을 방지하고,\n",
    "# 10개의 이미지를 분류하는 딥러닝 모델을 구성합니다.\n",
    "\n",
    "import tensorflow as tf\n",
    "from tensorflow.keras import models, layers\n",
    "\n",
    "model = models.Sequential()\n",
    "model.add(layers.Dense(2048, input_shape=(3072, )))\n",
    "model.add(layers.BatchNormalization())\n",
    "model.add(layers.Activation('relu'))\n",
    "model.add(layers.Dropout(0.5))\n",
    "model.add(layers.Dense(1024))\n",
    "model.add(layers.BatchNormalization())\n",
    "model.add(layers.Activation('relu'))\n",
    "model.add(layers.Dropout(0.5))\n",
    "model.add(layers.Dense(512))\n",
    "model.add(layers.BatchNormalization())\n",
    "model.add(layers.Activation('relu'))\n",
    "model.add(layers.Dropout(0.5))\n",
    "model.add(layers.Dense(10, activation='softmax'))\n",
    "\n",
    "\n",
    "model.compile(loss='sparse_categorical_crossentropy',\n",
    "             optimizer='SGD',\n",
    "             metrics=['acc'])"
   ]
  },
  {
   "cell_type": "code",
   "execution_count": 27,
   "id": "955e5c29",
   "metadata": {},
   "outputs": [
    {
     "name": "stdout",
     "output_type": "stream",
     "text": [
      "Model: \"sequential_2\"\n",
      "_________________________________________________________________\n",
      " Layer (type)                Output Shape              Param #   \n",
      "=================================================================\n",
      " dense_6 (Dense)             (None, 2048)              6293504   \n",
      "                                                                 \n",
      " batch_normalization_2 (Bat  (None, 2048)              8192      \n",
      " chNormalization)                                                \n",
      "                                                                 \n",
      " activation_2 (Activation)   (None, 2048)              0         \n",
      "                                                                 \n",
      " dropout_2 (Dropout)         (None, 2048)              0         \n",
      "                                                                 \n",
      " dense_7 (Dense)             (None, 1024)              2098176   \n",
      "                                                                 \n",
      " batch_normalization_3 (Bat  (None, 1024)              4096      \n",
      " chNormalization)                                                \n",
      "                                                                 \n",
      " activation_3 (Activation)   (None, 1024)              0         \n",
      "                                                                 \n",
      " dropout_3 (Dropout)         (None, 1024)              0         \n",
      "                                                                 \n",
      " dense_8 (Dense)             (None, 512)               524800    \n",
      "                                                                 \n",
      " batch_normalization_4 (Bat  (None, 512)               2048      \n",
      " chNormalization)                                                \n",
      "                                                                 \n",
      " activation_4 (Activation)   (None, 512)               0         \n",
      "                                                                 \n",
      " dropout_4 (Dropout)         (None, 512)               0         \n",
      "                                                                 \n",
      " dense_9 (Dense)             (None, 10)                5130      \n",
      "                                                                 \n",
      "=================================================================\n",
      "Total params: 8935946 (34.09 MB)\n",
      "Trainable params: 8928778 (34.06 MB)\n",
      "Non-trainable params: 7168 (28.00 KB)\n",
      "_________________________________________________________________\n"
     ]
    }
   ],
   "source": [
    "model.summary()"
   ]
  },
  {
   "cell_type": "code",
   "execution_count": 28,
   "id": "9647fdeb",
   "metadata": {},
   "outputs": [
    {
     "name": "stdout",
     "output_type": "stream",
     "text": [
      "You must install pydot (`pip install pydot`) and install graphviz (see instructions at https://graphviz.gitlab.io/download/) for plot_model to work.\n"
     ]
    }
   ],
   "source": [
    "utils.plot_model(model, show_shapes=True)"
   ]
  },
  {
   "cell_type": "code",
   "execution_count": null,
   "id": "0ea5580d",
   "metadata": {},
   "outputs": [
    {
     "name": "stdout",
     "output_type": "stream",
     "text": [
      "Epoch 1/60\n",
      "1250/1250 [==============================] - 24s 19ms/step - loss: 2.1344 - acc: 0.2671 - val_loss: 1.6778 - val_acc: 0.4007\n",
      "Epoch 2/60\n",
      "   1/1250 [..............................] - ETA: 21s - loss: 1.6853 - acc: 0.3438"
     ]
    },
    {
     "name": "stderr",
     "output_type": "stream",
     "text": [
      "C:\\Users\\angel\\anaconda3\\Lib\\site-packages\\keras\\src\\engine\\training.py:3103: UserWarning: You are saving your model as an HDF5 file via `model.save()`. This file format is considered legacy. We recommend using instead the native Keras format, e.g. `model.save('my_model.keras')`.\n",
      "  saving_api.save_model(\n"
     ]
    },
    {
     "name": "stdout",
     "output_type": "stream",
     "text": [
      "1250/1250 [==============================] - 22s 18ms/step - loss: 1.8311 - acc: 0.3416 - val_loss: 1.6477 - val_acc: 0.4060\n",
      "Epoch 3/60\n",
      "1250/1250 [==============================] - 23s 18ms/step - loss: 1.7403 - acc: 0.3700 - val_loss: 1.5787 - val_acc: 0.4278\n",
      "Epoch 4/60\n",
      "1250/1250 [==============================] - 23s 18ms/step - loss: 1.6799 - acc: 0.3952 - val_loss: 1.5287 - val_acc: 0.4571\n",
      "Epoch 5/60\n",
      "1250/1250 [==============================] - 23s 19ms/step - loss: 1.6455 - acc: 0.4096 - val_loss: 1.5410 - val_acc: 0.4444\n",
      "Epoch 6/60\n",
      "1250/1250 [==============================] - 22s 18ms/step - loss: 1.6155 - acc: 0.4198 - val_loss: 1.5122 - val_acc: 0.4568\n",
      "Epoch 7/60\n",
      "1250/1250 [==============================] - 23s 19ms/step - loss: 1.5895 - acc: 0.4268 - val_loss: 1.4924 - val_acc: 0.4674\n",
      "Epoch 8/60\n",
      "1250/1250 [==============================] - 21s 17ms/step - loss: 1.5633 - acc: 0.4403 - val_loss: 1.4379 - val_acc: 0.4871\n",
      "Epoch 9/60\n",
      "1250/1250 [==============================] - 22s 18ms/step - loss: 1.5357 - acc: 0.4451 - val_loss: 1.4338 - val_acc: 0.4864\n",
      "Epoch 10/60\n",
      "1250/1250 [==============================] - 22s 18ms/step - loss: 1.5284 - acc: 0.4494 - val_loss: 1.4218 - val_acc: 0.4951\n",
      "Epoch 11/60\n",
      "1250/1250 [==============================] - 21s 17ms/step - loss: 1.4979 - acc: 0.4614 - val_loss: 1.4197 - val_acc: 0.4877\n",
      "Epoch 12/60\n",
      "1250/1250 [==============================] - 21s 17ms/step - loss: 1.4873 - acc: 0.4642 - val_loss: 1.3835 - val_acc: 0.5044\n",
      "Epoch 13/60\n",
      "1250/1250 [==============================] - 21s 17ms/step - loss: 1.4685 - acc: 0.4713 - val_loss: 1.3961 - val_acc: 0.5058\n",
      "Epoch 14/60\n",
      "1250/1250 [==============================] - 21s 17ms/step - loss: 1.4593 - acc: 0.4778 - val_loss: 1.4041 - val_acc: 0.4924\n",
      "Epoch 15/60\n",
      "1250/1250 [==============================] - 22s 18ms/step - loss: 1.4388 - acc: 0.4814 - val_loss: 1.3779 - val_acc: 0.5038\n",
      "Epoch 16/60\n",
      "1250/1250 [==============================] - 22s 17ms/step - loss: 1.4206 - acc: 0.4869 - val_loss: 1.3766 - val_acc: 0.5103\n",
      "Epoch 17/60\n",
      "1250/1250 [==============================] - 22s 17ms/step - loss: 1.4112 - acc: 0.4943 - val_loss: 1.4141 - val_acc: 0.4982\n",
      "Epoch 18/60\n",
      "1250/1250 [==============================] - 22s 17ms/step - loss: 1.3977 - acc: 0.4994 - val_loss: 1.3636 - val_acc: 0.5171\n",
      "Epoch 19/60\n",
      "1250/1250 [==============================] - 21s 17ms/step - loss: 1.3860 - acc: 0.5023 - val_loss: 1.3500 - val_acc: 0.5186\n",
      "Epoch 20/60\n",
      "1250/1250 [==============================] - 21s 17ms/step - loss: 1.3739 - acc: 0.5055 - val_loss: 1.3222 - val_acc: 0.5278\n",
      "Epoch 21/60\n",
      "1250/1250 [==============================] - 21s 17ms/step - loss: 1.3611 - acc: 0.5093 - val_loss: 1.3380 - val_acc: 0.5185\n",
      "Epoch 22/60\n",
      "1250/1250 [==============================] - 21s 17ms/step - loss: 1.3442 - acc: 0.5160 - val_loss: 1.3270 - val_acc: 0.5283\n",
      "Epoch 23/60\n",
      "1250/1250 [==============================] - 22s 17ms/step - loss: 1.3368 - acc: 0.5188 - val_loss: 1.3350 - val_acc: 0.5293\n",
      "Epoch 24/60\n",
      "1250/1250 [==============================] - 21s 17ms/step - loss: 1.3315 - acc: 0.5215 - val_loss: 1.3394 - val_acc: 0.5189\n",
      "Epoch 25/60\n",
      "1250/1250 [==============================] - 21s 17ms/step - loss: 1.3195 - acc: 0.5262 - val_loss: 1.3054 - val_acc: 0.5368\n",
      "Epoch 26/60\n",
      "1250/1250 [==============================] - 21s 17ms/step - loss: 1.3114 - acc: 0.5311 - val_loss: 1.3686 - val_acc: 0.5094\n",
      "Epoch 27/60\n",
      "1250/1250 [==============================] - 21s 17ms/step - loss: 1.2965 - acc: 0.5336 - val_loss: 1.3157 - val_acc: 0.5361\n",
      "Epoch 28/60\n",
      "1250/1250 [==============================] - 21s 17ms/step - loss: 1.2868 - acc: 0.5365 - val_loss: 1.3568 - val_acc: 0.5227\n",
      "Epoch 29/60\n",
      "1250/1250 [==============================] - 21s 17ms/step - loss: 1.2785 - acc: 0.5392 - val_loss: 1.3181 - val_acc: 0.5338\n",
      "Epoch 30/60\n",
      "1250/1250 [==============================] - 21s 17ms/step - loss: 1.2706 - acc: 0.5423 - val_loss: 1.3269 - val_acc: 0.5342\n",
      "Epoch 31/60\n",
      "1250/1250 [==============================] - 21s 17ms/step - loss: 1.2662 - acc: 0.5451 - val_loss: 1.2745 - val_acc: 0.5468\n",
      "Epoch 32/60\n",
      "1250/1250 [==============================] - 21s 17ms/step - loss: 1.2491 - acc: 0.5524 - val_loss: 1.2888 - val_acc: 0.5427\n",
      "Epoch 33/60\n",
      "1250/1250 [==============================] - 22s 17ms/step - loss: 1.2441 - acc: 0.5506 - val_loss: 1.2921 - val_acc: 0.5430\n",
      "Epoch 34/60\n",
      "1250/1250 [==============================] - 21s 17ms/step - loss: 1.2334 - acc: 0.5558 - val_loss: 1.2768 - val_acc: 0.5509\n",
      "Epoch 35/60\n",
      "1250/1250 [==============================] - 21s 17ms/step - loss: 1.2234 - acc: 0.5611 - val_loss: 1.2698 - val_acc: 0.5501\n",
      "Epoch 36/60\n",
      "1250/1250 [==============================] - 21s 17ms/step - loss: 1.2109 - acc: 0.5618 - val_loss: 1.4472 - val_acc: 0.5051\n",
      "Epoch 37/60\n",
      "1250/1250 [==============================] - 21s 17ms/step - loss: 1.2109 - acc: 0.5668 - val_loss: 1.3238 - val_acc: 0.5413\n",
      "Epoch 38/60\n",
      "1250/1250 [==============================] - 21s 17ms/step - loss: 1.1995 - acc: 0.5669 - val_loss: 1.3184 - val_acc: 0.5379\n",
      "Epoch 39/60\n",
      "1250/1250 [==============================] - 21s 17ms/step - loss: 1.1900 - acc: 0.5698 - val_loss: 1.2739 - val_acc: 0.5474\n",
      "Epoch 40/60\n",
      "1250/1250 [==============================] - 21s 17ms/step - loss: 1.1797 - acc: 0.5750 - val_loss: 1.4319 - val_acc: 0.5077\n",
      "Epoch 41/60\n",
      "1250/1250 [==============================] - 21s 17ms/step - loss: 1.1697 - acc: 0.5777 - val_loss: 1.3533 - val_acc: 0.5284\n",
      "Epoch 42/60\n",
      "1250/1250 [==============================] - 21s 17ms/step - loss: 1.1705 - acc: 0.5782 - val_loss: 1.2636 - val_acc: 0.5558\n",
      "Epoch 43/60\n",
      "1250/1250 [==============================] - 21s 17ms/step - loss: 1.1565 - acc: 0.5875 - val_loss: 1.2764 - val_acc: 0.5548\n",
      "Epoch 44/60\n",
      "1250/1250 [==============================] - 21s 17ms/step - loss: 1.1493 - acc: 0.5869 - val_loss: 1.2648 - val_acc: 0.5552\n",
      "Epoch 45/60\n",
      "1250/1250 [==============================] - 21s 17ms/step - loss: 1.1462 - acc: 0.5858 - val_loss: 1.2722 - val_acc: 0.5501\n",
      "Epoch 46/60\n",
      "1250/1250 [==============================] - 21s 17ms/step - loss: 1.1349 - acc: 0.5893 - val_loss: 1.3393 - val_acc: 0.5347\n",
      "Epoch 47/60\n",
      "1250/1250 [==============================] - 21s 17ms/step - loss: 1.1275 - acc: 0.5946 - val_loss: 1.2855 - val_acc: 0.5498\n",
      "Epoch 48/60\n",
      "1250/1250 [==============================] - 21s 17ms/step - loss: 1.1187 - acc: 0.5972 - val_loss: 1.3592 - val_acc: 0.5270\n",
      "Epoch 49/60\n",
      "1250/1250 [==============================] - 21s 17ms/step - loss: 1.1130 - acc: 0.5985 - val_loss: 1.2748 - val_acc: 0.5583\n",
      "Epoch 50/60\n",
      "1250/1250 [==============================] - 22s 17ms/step - loss: 1.1076 - acc: 0.6001 - val_loss: 1.2856 - val_acc: 0.5536\n",
      "Epoch 51/60\n",
      "1250/1250 [==============================] - 21s 17ms/step - loss: 1.0997 - acc: 0.6050 - val_loss: 1.3041 - val_acc: 0.5475\n",
      "Epoch 52/60\n",
      " 188/1250 [===>..........................] - ETA: 17s - loss: 1.0944 - acc: 0.6064"
     ]
    }
   ],
   "source": [
    "# 문제 3-4: ModelCheckpoint와 EarlyStopping 콜백 함수를 적용하여 모델 학습을 진행합니다.\n",
    "from tensorflow.keras import callbacks\n",
    "\n",
    "check_point_cb = callbacks.ModelCheckpoint('fashion_mnist_model.h5',\n",
    "                                          save_best_only=True)\n",
    "early_stopping_cb = callbacks.EarlyStopping(patience=10,\n",
    "                                           monitor='val_loss',\n",
    "                                           restore_best_weights=True)\n",
    "\n",
    "history = model.fit(x_train, y_train,\n",
    "                   epochs=60,\n",
    "                   validation_data=(x_val, y_val),\n",
    "                   callbacks=[check_point_cb, early_stopping_cb])"
   ]
  },
  {
   "cell_type": "code",
   "execution_count": null,
   "id": "4cb812cb",
   "metadata": {},
   "outputs": [],
   "source": [
    "# 문제 3-5: 학습 히스토리의 `loss`, `val_loss`, `accuracy`, `val_accuracy`를 차트로 시각화합니다.\n",
    "plt.style.use('seaborn-white')\n",
    "\n",
    "history_dict = history.history\n",
    "\n",
    "loss = history_dict['loss']\n",
    "val_loss = history_dict['val_loss']\n",
    "\n",
    "epochs = range(1, len(loss) + 1)\n",
    "fig = plt.figure(figsize=(12, 5))\n",
    "\n",
    "ax1 = fig.add_subplot(1, 2, 1)\n",
    "ax1.plot(epochs, loss, 'b-', label='train_loss')\n",
    "ax1.plot(epochs, val_loss, 'r-', label='val_loss')\n",
    "ax1.set_title('Train and Validation Loss')\n",
    "ax1.set_xlabel('Epochs')\n",
    "ax1.set_ylabel('Loss')\n",
    "ax1.grid()\n",
    "ax1.legend()\n",
    "\n",
    "accuracy = history_dict['acc']\n",
    "val_accuracy = history_dict['val_acc']\n",
    "\n",
    "ax2 = fig.add_subplot(1, 2, 2)\n",
    "ax2.plot(epochs, accuracy, 'b-', label='train_accuracy')\n",
    "ax2.plot(epochs, val_accuracy, 'r-', label='val_accuracy')\n",
    "ax2.set_title('Train and Validation Accuracy')\n",
    "ax2.set_xlabel('Epochs')\n",
    "ax2.set_ylabel('Accuracy')\n",
    "ax2.grid()\n",
    "ax2.legend()\n",
    "\n",
    "plt.show()"
   ]
  },
  {
   "cell_type": "code",
   "execution_count": null,
   "id": "5b30b66d",
   "metadata": {},
   "outputs": [],
   "source": [
    "# 테스트 데이터셋을 이용해 모델을 평가합니다.\n",
    "model.evaluate(x_test, y_test)"
   ]
  },
  {
   "cell_type": "code",
   "execution_count": null,
   "id": "c57e510d",
   "metadata": {},
   "outputs": [],
   "source": []
  }
 ],
 "metadata": {
  "kernelspec": {
   "display_name": "Python 3 (ipykernel)",
   "language": "python",
   "name": "python3"
  },
  "language_info": {
   "codemirror_mode": {
    "name": "ipython",
    "version": 3
   },
   "file_extension": ".py",
   "mimetype": "text/x-python",
   "name": "python",
   "nbconvert_exporter": "python",
   "pygments_lexer": "ipython3",
   "version": "3.11.4"
  }
 },
 "nbformat": 4,
 "nbformat_minor": 5
}
