{
  "nbformat": 4,
  "nbformat_minor": 0,
  "metadata": {
    "colab": {
      "provenance": [],
      "include_colab_link": true
    },
    "kernelspec": {
      "name": "python3",
      "display_name": "Python 3"
    },
    "language_info": {
      "name": "python"
    }
  },
  "cells": [
    {
      "cell_type": "markdown",
      "metadata": {
        "id": "view-in-github",
        "colab_type": "text"
      },
      "source": [
        "<a href=\"https://colab.research.google.com/github/JoBoB1218/AIFFEL_Online_Quest/blob/main/Quest01/Quest01.ipynb\" target=\"_parent\"><img src=\"https://colab.research.google.com/assets/colab-badge.svg\" alt=\"Open In Colab\"/></a>"
      ]
    },
    {
      "cell_type": "markdown",
      "source": [
        "# [퀘스트 1] 회문인지 아닌지 확인하는 프로그램\n",
        "\n",
        "- 회문 : 앞에서부터 읽어도 뒤에서부터 읽어도 같은 단어, 구, 문장, 숫자, 혹은 문단\n",
        "- 조건\n",
        "  - 단어를 입력받을 수 있게 한다.\n",
        "  - 입력된 단어를 뒤집어서 출력할 수 있게 한다.\n",
        "  - 입력된 단어가 회문이 맞는지 확인하여 출력할 수 있게 한다.\n",
        "  - 자료형, 제어문, 함수를 활용한다.\n",
        "\n",
        "\n",
        "  출력 예시\n",
        "  ===\n",
        "  입력값 :\n",
        "  우성우\n",
        "\n",
        "  출력값 :\n",
        "  뒤집한 단어는 : 우성우\n",
        "  입력된 단어는 회문입니다."
      ],
      "metadata": {
        "id": "NMei1-vuYnwp"
      }
    },
    {
      "cell_type": "code",
      "source": [
        "word = input()"
      ],
      "metadata": {
        "colab": {
          "base_uri": "https://localhost:8080/"
        },
        "id": "jWk65MZsYpuX",
        "outputId": "a11b5ffa-7bd3-4c46-b3fe-3d1f96ab59a9"
      },
      "execution_count": null,
      "outputs": [
        {
          "name": "stdout",
          "output_type": "stream",
          "text": [
            "우영우\n"
          ]
        }
      ]
    },
    {
      "cell_type": "code",
      "source": [
        "word = input('입력값:')\n",
        "\n",
        "reversed_word = word[::-1]\n",
        "\n",
        "reversed_word\n",
        "\n",
        "if word == reversed_word:\n",
        "  print('뒤집힌 단어는:', reversed_word, '입니다.')\n",
        "  print('입력된 단어는 회문입니다.')\n",
        "\n",
        "else:\n",
        "  print('뒤집힌 단어는:', reversed_word, '입니다.')\n",
        "  print('입력된 단어는 회문이 아닙니다.')"
      ],
      "metadata": {
        "colab": {
          "base_uri": "https://localhost:8080/"
        },
        "id": "uHHWoLOPZ4hX",
        "outputId": "b8a68879-8000-4a51-de2b-c9ab63fbfaef"
      },
      "execution_count": 1,
      "outputs": [
        {
          "output_type": "stream",
          "name": "stdout",
          "text": [
            "입력값:우영우\n",
            "뒤집힌 단어는: 우영우 입니다.\n",
            "입력된 단어는 회문입니다.\n"
          ]
        }
      ]
    },
    {
      "cell_type": "code",
      "source": [
        "word = input('입력값 :')\n",
        "answer = []\n",
        "\n",
        "for i in range( len(word)//2 + 1 ):\n",
        "  answer[i] = word[-1 - i]\n",
        "\n",
        "print('뒤집힌 단어는:', reversed_word, '입니다.')\n",
        "\n",
        "\n",
        "if word == answer:\n",
        "  print('입력된 단어는 회문입니다.')\n",
        "\n",
        "else:\n",
        "  print('입력된 단어는 회문이 아닙니다.')"
      ],
      "metadata": {
        "id": "c7wnz05aaD-q",
        "colab": {
          "base_uri": "https://localhost:8080/",
          "height": 276
        },
        "outputId": "c9409873-5d7c-4efe-a1ea-fea29c4785d3"
      },
      "execution_count": 6,
      "outputs": [
        {
          "name": "stdout",
          "output_type": "stream",
          "text": [
            "입력값 :ㄴㅇㄹ\n"
          ]
        },
        {
          "output_type": "error",
          "ename": "IndexError",
          "evalue": "ignored",
          "traceback": [
            "\u001b[0;31m---------------------------------------------------------------------------\u001b[0m",
            "\u001b[0;31mIndexError\u001b[0m                                Traceback (most recent call last)",
            "\u001b[0;32m<ipython-input-6-9a9aa50a5da9>\u001b[0m in \u001b[0;36m<cell line: 4>\u001b[0;34m()\u001b[0m\n\u001b[1;32m      3\u001b[0m \u001b[0;34m\u001b[0m\u001b[0m\n\u001b[1;32m      4\u001b[0m \u001b[0;32mfor\u001b[0m \u001b[0mi\u001b[0m \u001b[0;32min\u001b[0m \u001b[0mrange\u001b[0m\u001b[0;34m(\u001b[0m \u001b[0mlen\u001b[0m\u001b[0;34m(\u001b[0m\u001b[0mword\u001b[0m\u001b[0;34m)\u001b[0m\u001b[0;34m//\u001b[0m\u001b[0;36m2\u001b[0m \u001b[0;34m+\u001b[0m \u001b[0;36m1\u001b[0m \u001b[0;34m)\u001b[0m\u001b[0;34m:\u001b[0m\u001b[0;34m\u001b[0m\u001b[0;34m\u001b[0m\u001b[0m\n\u001b[0;32m----> 5\u001b[0;31m   \u001b[0manswer\u001b[0m\u001b[0;34m[\u001b[0m\u001b[0mi\u001b[0m\u001b[0;34m]\u001b[0m \u001b[0;34m=\u001b[0m \u001b[0mword\u001b[0m\u001b[0;34m[\u001b[0m\u001b[0;34m-\u001b[0m\u001b[0;36m1\u001b[0m \u001b[0;34m-\u001b[0m \u001b[0mi\u001b[0m\u001b[0;34m]\u001b[0m\u001b[0;34m\u001b[0m\u001b[0;34m\u001b[0m\u001b[0m\n\u001b[0m\u001b[1;32m      6\u001b[0m \u001b[0;34m\u001b[0m\u001b[0m\n\u001b[1;32m      7\u001b[0m \u001b[0mprint\u001b[0m\u001b[0;34m(\u001b[0m\u001b[0;34m'뒤집힌 단어는:'\u001b[0m\u001b[0;34m,\u001b[0m \u001b[0mreversed_word\u001b[0m\u001b[0;34m,\u001b[0m \u001b[0;34m'입니다.'\u001b[0m\u001b[0;34m)\u001b[0m\u001b[0;34m\u001b[0m\u001b[0;34m\u001b[0m\u001b[0m\n",
            "\u001b[0;31mIndexError\u001b[0m: list assignment index out of range"
          ]
        }
      ]
    }
  ]
}